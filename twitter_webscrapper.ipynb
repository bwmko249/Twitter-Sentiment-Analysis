{
 "cells": [
  {
   "cell_type": "code",
   "execution_count": 1,
   "metadata": {},
   "outputs": [],
   "source": [
    "import pandas as pd\n",
    "import snscrape.modules.twitter as sntwitter"
   ]
  },
  {
   "cell_type": "code",
   "execution_count": 44,
   "metadata": {
    "scrolled": true
   },
   "outputs": [],
   "source": [
    "maxTweets = 100000\n",
    "\n",
    "# Create an empty list to append tweet data to.\n",
    "tweets_list = []\n",
    "\n",
    "# Using TwitterSearchScraper to scrape data and append tweets to list. The keyword in this code is for a project i worked on.\n",
    "\n",
    "for i,tweet in enumerate(sntwitter.TwitterSearchScraper('#HouseoftheDragon OR #houseofthedragon since:2022-08-21 until:2022-08-24 lang:en -filter:retweets -filter:links').get_items()):\n",
    "    if i>maxTweets:\n",
    "        break\n",
    "    tweets_list.append([tweet.date, tweet.id, tweet.user.username, tweet.retweetCount, tweet.likeCount, tweet.user.followersCount, tweet.rawContent])\n",
    "#filter links and replies if you don't want to include retweets, replies and links to tweet."
   ]
  },
  {
   "cell_type": "code",
   "execution_count": 45,
   "metadata": {},
   "outputs": [],
   "source": [
    "tweets_df = pd.DataFrame(tweets_list, columns=['date', 'id', 'username','retweet', 'likes', \n",
    "                                                 'followers', 'tweet'])"
   ]
  },
  {
   "cell_type": "code",
   "execution_count": 23,
   "metadata": {},
   "outputs": [
    {
     "data": {
      "text/html": [
       "<div>\n",
       "<style scoped>\n",
       "    .dataframe tbody tr th:only-of-type {\n",
       "        vertical-align: middle;\n",
       "    }\n",
       "\n",
       "    .dataframe tbody tr th {\n",
       "        vertical-align: top;\n",
       "    }\n",
       "\n",
       "    .dataframe thead th {\n",
       "        text-align: right;\n",
       "    }\n",
       "</style>\n",
       "<table border=\"1\" class=\"dataframe\">\n",
       "  <thead>\n",
       "    <tr style=\"text-align: right;\">\n",
       "      <th></th>\n",
       "      <th>date</th>\n",
       "      <th>id</th>\n",
       "      <th>username</th>\n",
       "      <th>retweet</th>\n",
       "      <th>likes</th>\n",
       "      <th>followers</th>\n",
       "      <th>tweet</th>\n",
       "    </tr>\n",
       "  </thead>\n",
       "  <tbody>\n",
       "    <tr>\n",
       "      <th>0</th>\n",
       "      <td>2022-08-23 23:56:22+00:00</td>\n",
       "      <td>1562227277835821063</td>\n",
       "      <td>DR0SH4</td>\n",
       "      <td>0</td>\n",
       "      <td>6</td>\n",
       "      <td>217</td>\n",
       "      <td>game of thrones disappointed me soooo bad like...</td>\n",
       "    </tr>\n",
       "    <tr>\n",
       "      <th>1</th>\n",
       "      <td>2022-08-23 23:53:40+00:00</td>\n",
       "      <td>1562226599256367104</td>\n",
       "      <td>JenniFink_</td>\n",
       "      <td>0</td>\n",
       "      <td>0</td>\n",
       "      <td>957</td>\n",
       "      <td>Watching house of dragons without ever seeing ...</td>\n",
       "    </tr>\n",
       "    <tr>\n",
       "      <th>2</th>\n",
       "      <td>2022-08-23 23:53:04+00:00</td>\n",
       "      <td>1562226446650773504</td>\n",
       "      <td>plzsaytheJ</td>\n",
       "      <td>0</td>\n",
       "      <td>0</td>\n",
       "      <td>24</td>\n",
       "      <td>House of Dragon is hard. Kinda wanna rewatch t...</td>\n",
       "    </tr>\n",
       "    <tr>\n",
       "      <th>3</th>\n",
       "      <td>2022-08-23 23:51:53+00:00</td>\n",
       "      <td>1562226150738460672</td>\n",
       "      <td>tobemcguire</td>\n",
       "      <td>0</td>\n",
       "      <td>0</td>\n",
       "      <td>299</td>\n",
       "      <td>House of Dragon first episode is already brewi...</td>\n",
       "    </tr>\n",
       "    <tr>\n",
       "      <th>4</th>\n",
       "      <td>2022-08-23 23:51:47+00:00</td>\n",
       "      <td>1562226123534123008</td>\n",
       "      <td>pollypocket_123</td>\n",
       "      <td>0</td>\n",
       "      <td>2</td>\n",
       "      <td>150</td>\n",
       "      <td>It’s only right to rewatch Game of Thrones now...</td>\n",
       "    </tr>\n",
       "  </tbody>\n",
       "</table>\n",
       "</div>"
      ],
      "text/plain": [
       "                       date                   id         username  retweet  \\\n",
       "0 2022-08-23 23:56:22+00:00  1562227277835821063           DR0SH4        0   \n",
       "1 2022-08-23 23:53:40+00:00  1562226599256367104       JenniFink_        0   \n",
       "2 2022-08-23 23:53:04+00:00  1562226446650773504       plzsaytheJ        0   \n",
       "3 2022-08-23 23:51:53+00:00  1562226150738460672      tobemcguire        0   \n",
       "4 2022-08-23 23:51:47+00:00  1562226123534123008  pollypocket_123        0   \n",
       "\n",
       "   likes  followers                                              tweet  \n",
       "0      6        217  game of thrones disappointed me soooo bad like...  \n",
       "1      0        957  Watching house of dragons without ever seeing ...  \n",
       "2      0         24  House of Dragon is hard. Kinda wanna rewatch t...  \n",
       "3      0        299  House of Dragon first episode is already brewi...  \n",
       "4      2        150  It’s only right to rewatch Game of Thrones now...  "
      ]
     },
     "execution_count": 23,
     "metadata": {},
     "output_type": "execute_result"
    }
   ],
   "source": [
    "tweets_df.head()"
   ]
  },
  {
   "cell_type": "code",
   "execution_count": null,
   "metadata": {},
   "outputs": [],
   "source": []
  },
  {
   "cell_type": "code",
   "execution_count": 54,
   "metadata": {},
   "outputs": [],
   "source": [
    "tweets_df6.to_csv(r\"C:\\Users\\Gbolahan\\Desktop\\August\\got_tweets.csv\", index = True)"
   ]
  },
  {
   "cell_type": "code",
   "execution_count": 55,
   "metadata": {},
   "outputs": [],
   "source": [
    "got_tweets.to_csv(r\"C:\\Users\\Gbolahan\\Desktop\\August\\got_tweets2.csv\", index = True)"
   ]
  },
  {
   "cell_type": "code",
   "execution_count": null,
   "metadata": {},
   "outputs": [],
   "source": []
  }
 ],
 "metadata": {
  "kernelspec": {
   "display_name": "Python 3",
   "language": "python",
   "name": "python3"
  },
  "language_info": {
   "codemirror_mode": {
    "name": "ipython",
    "version": 3
   },
   "file_extension": ".py",
   "mimetype": "text/x-python",
   "name": "python",
   "nbconvert_exporter": "python",
   "pygments_lexer": "ipython3",
   "version": "3.8.3"
  }
 },
 "nbformat": 4,
 "nbformat_minor": 4
}
